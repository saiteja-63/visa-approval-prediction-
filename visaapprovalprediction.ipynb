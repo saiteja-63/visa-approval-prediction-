{
 "cells": [
  {
   "cell_type": "code",
   "execution_count": 78,
   "metadata": {},
   "outputs": [],
   "source": [
    "import numpy as np\n",
    "import pandas as pd"
   ]
  },
  {
   "cell_type": "code",
   "execution_count": 79,
   "metadata": {},
   "outputs": [
    {
     "name": "stderr",
     "output_type": "stream",
     "text": [
      "C:\\Users\\saite\\anaconda3\\lib\\site-packages\\IPython\\core\\interactiveshell.py:3444: DtypeWarning: Columns (25) have mixed types.Specify dtype option on import or set low_memory=False.\n",
      "  exec(code_obj, self.user_global_ns, self.user_ns)\n"
     ]
    }
   ],
   "source": [
    "dataset=pd.read_csv(r\"D:\\datamining\\final project datamining\\Batch-10 Visa Approval Prediction\\dataset\\1. Master H1B Dataset.csv\",encoding='latin1')"
   ]
  },
  {
   "cell_type": "code",
   "execution_count": 80,
   "metadata": {},
   "outputs": [
    {
     "data": {
      "text/html": [
       "<div>\n",
       "<style scoped>\n",
       "    .dataframe tbody tr th:only-of-type {\n",
       "        vertical-align: middle;\n",
       "    }\n",
       "\n",
       "    .dataframe tbody tr th {\n",
       "        vertical-align: top;\n",
       "    }\n",
       "\n",
       "    .dataframe thead th {\n",
       "        text-align: right;\n",
       "    }\n",
       "</style>\n",
       "<table border=\"1\" class=\"dataframe\">\n",
       "  <thead>\n",
       "    <tr style=\"text-align: right;\">\n",
       "      <th></th>\n",
       "      <th>CASE_SUBMITTED_DAY</th>\n",
       "      <th>CASE_SUBMITTED_MONTH</th>\n",
       "      <th>CASE_SUBMITTED_YEAR</th>\n",
       "      <th>DECISION_DAY</th>\n",
       "      <th>DECISION_MONTH</th>\n",
       "      <th>DECISION_YEAR</th>\n",
       "      <th>VISA_CLASS</th>\n",
       "      <th>EMPLOYER_NAME</th>\n",
       "      <th>EMPLOYER_STATE</th>\n",
       "      <th>EMPLOYER_COUNTRY</th>\n",
       "      <th>...</th>\n",
       "      <th>PW_SOURCE_YEAR</th>\n",
       "      <th>PW_SOURCE_OTHER</th>\n",
       "      <th>WAGE_RATE_OF_PAY_FROM</th>\n",
       "      <th>WAGE_RATE_OF_PAY_TO</th>\n",
       "      <th>WAGE_UNIT_OF_PAY</th>\n",
       "      <th>H-1B_DEPENDENT</th>\n",
       "      <th>WILLFUL_VIOLATOR</th>\n",
       "      <th>WORKSITE_STATE</th>\n",
       "      <th>WORKSITE_POSTAL_CODE</th>\n",
       "      <th>CASE_STATUS</th>\n",
       "    </tr>\n",
       "  </thead>\n",
       "  <tbody>\n",
       "    <tr>\n",
       "      <th>0</th>\n",
       "      <td>24</td>\n",
       "      <td>2</td>\n",
       "      <td>2016</td>\n",
       "      <td>1</td>\n",
       "      <td>10</td>\n",
       "      <td>2016</td>\n",
       "      <td>H1B</td>\n",
       "      <td>DISCOVER PRODUCTS INC</td>\n",
       "      <td>IL</td>\n",
       "      <td>UNITED STATES OF AMERICA</td>\n",
       "      <td>...</td>\n",
       "      <td>2015.0</td>\n",
       "      <td>OFLC ONLINE DATA CENTER</td>\n",
       "      <td>65811.0</td>\n",
       "      <td>67320.0</td>\n",
       "      <td>Year</td>\n",
       "      <td>N</td>\n",
       "      <td>N</td>\n",
       "      <td>IL</td>\n",
       "      <td>60015</td>\n",
       "      <td>CERTIFIEDWITHDRAWN</td>\n",
       "    </tr>\n",
       "    <tr>\n",
       "      <th>1</th>\n",
       "      <td>4</td>\n",
       "      <td>3</td>\n",
       "      <td>2016</td>\n",
       "      <td>1</td>\n",
       "      <td>10</td>\n",
       "      <td>2016</td>\n",
       "      <td>H1B</td>\n",
       "      <td>DFS SERVICES LLC</td>\n",
       "      <td>IL</td>\n",
       "      <td>UNITED STATES OF AMERICA</td>\n",
       "      <td>...</td>\n",
       "      <td>2015.0</td>\n",
       "      <td>WILLIS TOWERS WATSON SURVEY</td>\n",
       "      <td>53000.0</td>\n",
       "      <td>57200.0</td>\n",
       "      <td>Year</td>\n",
       "      <td>N</td>\n",
       "      <td>N</td>\n",
       "      <td>IL</td>\n",
       "      <td>60015</td>\n",
       "      <td>CERTIFIEDWITHDRAWN</td>\n",
       "    </tr>\n",
       "    <tr>\n",
       "      <th>2</th>\n",
       "      <td>10</td>\n",
       "      <td>3</td>\n",
       "      <td>2016</td>\n",
       "      <td>1</td>\n",
       "      <td>10</td>\n",
       "      <td>2016</td>\n",
       "      <td>H1B</td>\n",
       "      <td>EASTBANC TECHNOLOGIES LLC</td>\n",
       "      <td>DC</td>\n",
       "      <td>UNITED STATES OF AMERICA</td>\n",
       "      <td>...</td>\n",
       "      <td>2015.0</td>\n",
       "      <td>OFLC ONLINE DATA CENTER</td>\n",
       "      <td>77000.0</td>\n",
       "      <td>0.0</td>\n",
       "      <td>Year</td>\n",
       "      <td>Y</td>\n",
       "      <td>N</td>\n",
       "      <td>DC</td>\n",
       "      <td>20007</td>\n",
       "      <td>CERTIFIEDWITHDRAWN</td>\n",
       "    </tr>\n",
       "    <tr>\n",
       "      <th>3</th>\n",
       "      <td>28</td>\n",
       "      <td>9</td>\n",
       "      <td>2016</td>\n",
       "      <td>1</td>\n",
       "      <td>10</td>\n",
       "      <td>2016</td>\n",
       "      <td>H1B</td>\n",
       "      <td>INFO SERVICES LLC</td>\n",
       "      <td>MI</td>\n",
       "      <td>UNITED STATES OF AMERICA</td>\n",
       "      <td>...</td>\n",
       "      <td>2016.0</td>\n",
       "      <td>OFLC ONLINE DATA CENTER</td>\n",
       "      <td>102000.0</td>\n",
       "      <td>0.0</td>\n",
       "      <td>Year</td>\n",
       "      <td>Y</td>\n",
       "      <td>N</td>\n",
       "      <td>NJ</td>\n",
       "      <td>7302</td>\n",
       "      <td>WITHDRAWN</td>\n",
       "    </tr>\n",
       "    <tr>\n",
       "      <th>4</th>\n",
       "      <td>22</td>\n",
       "      <td>2</td>\n",
       "      <td>2015</td>\n",
       "      <td>2</td>\n",
       "      <td>10</td>\n",
       "      <td>2016</td>\n",
       "      <td>H1B</td>\n",
       "      <td>BBandT CORPORATION</td>\n",
       "      <td>NC</td>\n",
       "      <td>UNITED STATES OF AMERICA</td>\n",
       "      <td>...</td>\n",
       "      <td>2015.0</td>\n",
       "      <td>OFLC ONLINE DATA CENTER</td>\n",
       "      <td>132500.0</td>\n",
       "      <td>0.0</td>\n",
       "      <td>Year</td>\n",
       "      <td>N</td>\n",
       "      <td>N</td>\n",
       "      <td>NY</td>\n",
       "      <td>10036</td>\n",
       "      <td>CERTIFIEDWITHDRAWN</td>\n",
       "    </tr>\n",
       "  </tbody>\n",
       "</table>\n",
       "<p>5 rows × 27 columns</p>\n",
       "</div>"
      ],
      "text/plain": [
       "   CASE_SUBMITTED_DAY  CASE_SUBMITTED_MONTH  CASE_SUBMITTED_YEAR  \\\n",
       "0                  24                     2                 2016   \n",
       "1                   4                     3                 2016   \n",
       "2                  10                     3                 2016   \n",
       "3                  28                     9                 2016   \n",
       "4                  22                     2                 2015   \n",
       "\n",
       "   DECISION_DAY  DECISION_MONTH  DECISION_YEAR VISA_CLASS  \\\n",
       "0             1              10           2016        H1B   \n",
       "1             1              10           2016        H1B   \n",
       "2             1              10           2016        H1B   \n",
       "3             1              10           2016        H1B   \n",
       "4             2              10           2016        H1B   \n",
       "\n",
       "               EMPLOYER_NAME EMPLOYER_STATE          EMPLOYER_COUNTRY  ...  \\\n",
       "0      DISCOVER PRODUCTS INC             IL  UNITED STATES OF AMERICA  ...   \n",
       "1           DFS SERVICES LLC             IL  UNITED STATES OF AMERICA  ...   \n",
       "2  EASTBANC TECHNOLOGIES LLC             DC  UNITED STATES OF AMERICA  ...   \n",
       "3          INFO SERVICES LLC             MI  UNITED STATES OF AMERICA  ...   \n",
       "4         BBandT CORPORATION             NC  UNITED STATES OF AMERICA  ...   \n",
       "\n",
       "  PW_SOURCE_YEAR              PW_SOURCE_OTHER  WAGE_RATE_OF_PAY_FROM  \\\n",
       "0         2015.0      OFLC ONLINE DATA CENTER                65811.0   \n",
       "1         2015.0  WILLIS TOWERS WATSON SURVEY                53000.0   \n",
       "2         2015.0      OFLC ONLINE DATA CENTER                77000.0   \n",
       "3         2016.0      OFLC ONLINE DATA CENTER               102000.0   \n",
       "4         2015.0      OFLC ONLINE DATA CENTER               132500.0   \n",
       "\n",
       "  WAGE_RATE_OF_PAY_TO  WAGE_UNIT_OF_PAY H-1B_DEPENDENT WILLFUL_VIOLATOR  \\\n",
       "0             67320.0              Year              N                N   \n",
       "1             57200.0              Year              N                N   \n",
       "2                 0.0              Year              Y                N   \n",
       "3                 0.0              Year              Y                N   \n",
       "4                 0.0              Year              N                N   \n",
       "\n",
       "   WORKSITE_STATE WORKSITE_POSTAL_CODE         CASE_STATUS  \n",
       "0              IL                60015  CERTIFIEDWITHDRAWN  \n",
       "1              IL                60015  CERTIFIEDWITHDRAWN  \n",
       "2              DC                20007  CERTIFIEDWITHDRAWN  \n",
       "3              NJ                 7302           WITHDRAWN  \n",
       "4              NY                10036  CERTIFIEDWITHDRAWN  \n",
       "\n",
       "[5 rows x 27 columns]"
      ]
     },
     "execution_count": 80,
     "metadata": {},
     "output_type": "execute_result"
    }
   ],
   "source": [
    "dataset.head(5)"
   ]
  },
  {
   "cell_type": "code",
   "execution_count": 81,
   "metadata": {},
   "outputs": [],
   "source": [
    "dataset.drop('PW_UNIT_OF_PAY',axis=1,inplace=True)"
   ]
  },
  {
   "cell_type": "code",
   "execution_count": 82,
   "metadata": {},
   "outputs": [],
   "source": [
    "dataset.drop('WORKSITE_POSTAL_CODE',axis=1,inplace=True)"
   ]
  },
  {
   "cell_type": "code",
   "execution_count": 83,
   "metadata": {},
   "outputs": [],
   "source": [
    "dataset.drop('NAICS_CODE',axis=1,inplace=True)"
   ]
  },
  {
   "cell_type": "code",
   "execution_count": 84,
   "metadata": {},
   "outputs": [],
   "source": [
    "dataset.drop('TOTAL_WORKERS',axis=1,inplace=True)"
   ]
  },
  {
   "cell_type": "code",
   "execution_count": 85,
   "metadata": {},
   "outputs": [],
   "source": [
    "dataset.drop('WAGE_UNIT_OF_PAY',axis=1,inplace=True)"
   ]
  },
  {
   "cell_type": "code",
   "execution_count": 86,
   "metadata": {},
   "outputs": [],
   "source": [
    "dataset.drop('WAGE_RATE_OF_PAY_FROM',axis=1,inplace=True)"
   ]
  },
  {
   "cell_type": "code",
   "execution_count": 87,
   "metadata": {},
   "outputs": [],
   "source": [
    "dataset.drop('WAGE_RATE_OF_PAY_TO',axis=1,inplace=True)"
   ]
  },
  {
   "cell_type": "code",
   "execution_count": 88,
   "metadata": {},
   "outputs": [],
   "source": [
    "dataset.drop('H-1B_DEPENDENT',axis=1,inplace=True)"
   ]
  },
  {
   "cell_type": "code",
   "execution_count": 89,
   "metadata": {},
   "outputs": [],
   "source": [
    "dataset.drop('PW_SOURCE',axis=1,inplace=True)"
   ]
  },
  {
   "cell_type": "code",
   "execution_count": 90,
   "metadata": {},
   "outputs": [],
   "source": [
    "dataset.drop('WILLFUL_VIOLATOR',axis=1,inplace=True)"
   ]
  },
  {
   "cell_type": "code",
   "execution_count": 91,
   "metadata": {},
   "outputs": [],
   "source": [
    "dataset.drop('VISA_CLASS',axis=1,inplace=True)"
   ]
  },
  {
   "cell_type": "code",
   "execution_count": 92,
   "metadata": {},
   "outputs": [],
   "source": [
    "dataset.drop('EMPLOYER_STATE',axis=1,inplace=True)"
   ]
  },
  {
   "cell_type": "code",
   "execution_count": 93,
   "metadata": {},
   "outputs": [],
   "source": [
    "dataset.drop('EMPLOYER_COUNTRY',axis=1,inplace=True)"
   ]
  },
  {
   "cell_type": "code",
   "execution_count": 94,
   "metadata": {},
   "outputs": [],
   "source": [
    "dataset.drop('EMPLOYER_NAME',axis=1,inplace=True)"
   ]
  },
  {
   "cell_type": "code",
   "execution_count": 95,
   "metadata": {},
   "outputs": [],
   "source": [
    "dataset.drop('SOC_NAME',axis=1,inplace=True)"
   ]
  },
  {
   "cell_type": "code",
   "execution_count": 96,
   "metadata": {},
   "outputs": [],
   "source": [
    "dataset.drop('PW_SOURCE_OTHER',axis=1,inplace=True)"
   ]
  },
  {
   "cell_type": "code",
   "execution_count": 97,
   "metadata": {},
   "outputs": [],
   "source": [
    "dataset.drop('WORKSITE_STATE',axis=1,inplace=True)"
   ]
  },
  {
   "cell_type": "code",
   "execution_count": 98,
   "metadata": {},
   "outputs": [
    {
     "data": {
      "text/plain": [
       "CASE_SUBMITTED_DAY      False\n",
       "CASE_SUBMITTED_MONTH    False\n",
       "CASE_SUBMITTED_YEAR     False\n",
       "DECISION_DAY            False\n",
       "DECISION_MONTH          False\n",
       "DECISION_YEAR           False\n",
       "FULL_TIME_POSITION       True\n",
       "PREVAILING_WAGE         False\n",
       "PW_SOURCE_YEAR           True\n",
       "CASE_STATUS             False\n",
       "dtype: bool"
      ]
     },
     "execution_count": 98,
     "metadata": {},
     "output_type": "execute_result"
    }
   ],
   "source": [
    "dataset.isnull().any()"
   ]
  },
  {
   "cell_type": "code",
   "execution_count": 99,
   "metadata": {},
   "outputs": [
    {
     "data": {
      "text/html": [
       "<div>\n",
       "<style scoped>\n",
       "    .dataframe tbody tr th:only-of-type {\n",
       "        vertical-align: middle;\n",
       "    }\n",
       "\n",
       "    .dataframe tbody tr th {\n",
       "        vertical-align: top;\n",
       "    }\n",
       "\n",
       "    .dataframe thead th {\n",
       "        text-align: right;\n",
       "    }\n",
       "</style>\n",
       "<table border=\"1\" class=\"dataframe\">\n",
       "  <thead>\n",
       "    <tr style=\"text-align: right;\">\n",
       "      <th></th>\n",
       "      <th>CASE_SUBMITTED_DAY</th>\n",
       "      <th>CASE_SUBMITTED_MONTH</th>\n",
       "      <th>CASE_SUBMITTED_YEAR</th>\n",
       "      <th>DECISION_DAY</th>\n",
       "      <th>DECISION_MONTH</th>\n",
       "      <th>DECISION_YEAR</th>\n",
       "      <th>FULL_TIME_POSITION</th>\n",
       "      <th>PREVAILING_WAGE</th>\n",
       "      <th>PW_SOURCE_YEAR</th>\n",
       "      <th>CASE_STATUS</th>\n",
       "    </tr>\n",
       "  </thead>\n",
       "  <tbody>\n",
       "    <tr>\n",
       "      <th>0</th>\n",
       "      <td>24</td>\n",
       "      <td>2</td>\n",
       "      <td>2016</td>\n",
       "      <td>1</td>\n",
       "      <td>10</td>\n",
       "      <td>2016</td>\n",
       "      <td>Y</td>\n",
       "      <td>59197.0</td>\n",
       "      <td>2015.0</td>\n",
       "      <td>CERTIFIEDWITHDRAWN</td>\n",
       "    </tr>\n",
       "    <tr>\n",
       "      <th>1</th>\n",
       "      <td>4</td>\n",
       "      <td>3</td>\n",
       "      <td>2016</td>\n",
       "      <td>1</td>\n",
       "      <td>10</td>\n",
       "      <td>2016</td>\n",
       "      <td>Y</td>\n",
       "      <td>49800.0</td>\n",
       "      <td>2015.0</td>\n",
       "      <td>CERTIFIEDWITHDRAWN</td>\n",
       "    </tr>\n",
       "  </tbody>\n",
       "</table>\n",
       "</div>"
      ],
      "text/plain": [
       "   CASE_SUBMITTED_DAY  CASE_SUBMITTED_MONTH  CASE_SUBMITTED_YEAR  \\\n",
       "0                  24                     2                 2016   \n",
       "1                   4                     3                 2016   \n",
       "\n",
       "   DECISION_DAY  DECISION_MONTH  DECISION_YEAR FULL_TIME_POSITION  \\\n",
       "0             1              10           2016                  Y   \n",
       "1             1              10           2016                  Y   \n",
       "\n",
       "   PREVAILING_WAGE  PW_SOURCE_YEAR         CASE_STATUS  \n",
       "0          59197.0          2015.0  CERTIFIEDWITHDRAWN  \n",
       "1          49800.0          2015.0  CERTIFIEDWITHDRAWN  "
      ]
     },
     "execution_count": 99,
     "metadata": {},
     "output_type": "execute_result"
    }
   ],
   "source": [
    "dataset.head(2)"
   ]
  },
  {
   "cell_type": "code",
   "execution_count": 100,
   "metadata": {},
   "outputs": [],
   "source": [
    "dataset['FULL_TIME_POSITION'].fillna(dataset['FULL_TIME_POSITION'].mode()[0],inplace=True)\n",
    "dataset['PW_SOURCE_YEAR'].fillna(dataset['PW_SOURCE_YEAR'].mode()[0],inplace=True)"
   ]
  },
  {
   "cell_type": "code",
   "execution_count": 101,
   "metadata": {},
   "outputs": [
    {
     "data": {
      "text/plain": [
       "CASE_SUBMITTED_DAY      False\n",
       "CASE_SUBMITTED_MONTH    False\n",
       "CASE_SUBMITTED_YEAR     False\n",
       "DECISION_DAY            False\n",
       "DECISION_MONTH          False\n",
       "DECISION_YEAR           False\n",
       "FULL_TIME_POSITION      False\n",
       "PREVAILING_WAGE         False\n",
       "PW_SOURCE_YEAR          False\n",
       "CASE_STATUS             False\n",
       "dtype: bool"
      ]
     },
     "execution_count": 101,
     "metadata": {},
     "output_type": "execute_result"
    }
   ],
   "source": [
    "dataset.isnull().any()"
   ]
  },
  {
   "cell_type": "code",
   "execution_count": 102,
   "metadata": {},
   "outputs": [],
   "source": [
    "from sklearn.preprocessing import LabelEncoder\n",
    "le = LabelEncoder()\n",
    "dataset['FULL_TIME_POSITION']= le.fit_transform(dataset['FULL_TIME_POSITION'])\n",
    "dataset['CASE_STATUS']= le.fit_transform(dataset['CASE_STATUS'])"
   ]
  },
  {
   "cell_type": "code",
   "execution_count": 103,
   "metadata": {},
   "outputs": [
    {
     "data": {
      "text/plain": [
       "array([1, 0])"
      ]
     },
     "execution_count": 103,
     "metadata": {},
     "output_type": "execute_result"
    }
   ],
   "source": [
    "dataset['FULL_TIME_POSITION'].unique()"
   ]
  },
  {
   "cell_type": "code",
   "execution_count": 104,
   "metadata": {},
   "outputs": [
    {
     "data": {
      "text/plain": [
       "array([1, 3, 0, 2])"
      ]
     },
     "execution_count": 104,
     "metadata": {},
     "output_type": "execute_result"
    }
   ],
   "source": [
    "dataset['CASE_STATUS'].unique()"
   ]
  },
  {
   "cell_type": "code",
   "execution_count": 105,
   "metadata": {},
   "outputs": [
    {
     "data": {
      "text/html": [
       "<div>\n",
       "<style scoped>\n",
       "    .dataframe tbody tr th:only-of-type {\n",
       "        vertical-align: middle;\n",
       "    }\n",
       "\n",
       "    .dataframe tbody tr th {\n",
       "        vertical-align: top;\n",
       "    }\n",
       "\n",
       "    .dataframe thead th {\n",
       "        text-align: right;\n",
       "    }\n",
       "</style>\n",
       "<table border=\"1\" class=\"dataframe\">\n",
       "  <thead>\n",
       "    <tr style=\"text-align: right;\">\n",
       "      <th></th>\n",
       "      <th>CASE_SUBMITTED_DAY</th>\n",
       "      <th>CASE_SUBMITTED_MONTH</th>\n",
       "      <th>CASE_SUBMITTED_YEAR</th>\n",
       "      <th>DECISION_DAY</th>\n",
       "      <th>DECISION_MONTH</th>\n",
       "      <th>DECISION_YEAR</th>\n",
       "      <th>FULL_TIME_POSITION</th>\n",
       "      <th>PREVAILING_WAGE</th>\n",
       "      <th>PW_SOURCE_YEAR</th>\n",
       "      <th>CASE_STATUS</th>\n",
       "    </tr>\n",
       "  </thead>\n",
       "  <tbody>\n",
       "    <tr>\n",
       "      <th>0</th>\n",
       "      <td>24</td>\n",
       "      <td>2</td>\n",
       "      <td>2016</td>\n",
       "      <td>1</td>\n",
       "      <td>10</td>\n",
       "      <td>2016</td>\n",
       "      <td>1</td>\n",
       "      <td>59197.0</td>\n",
       "      <td>2015.0</td>\n",
       "      <td>1</td>\n",
       "    </tr>\n",
       "    <tr>\n",
       "      <th>1</th>\n",
       "      <td>4</td>\n",
       "      <td>3</td>\n",
       "      <td>2016</td>\n",
       "      <td>1</td>\n",
       "      <td>10</td>\n",
       "      <td>2016</td>\n",
       "      <td>1</td>\n",
       "      <td>49800.0</td>\n",
       "      <td>2015.0</td>\n",
       "      <td>1</td>\n",
       "    </tr>\n",
       "    <tr>\n",
       "      <th>2</th>\n",
       "      <td>10</td>\n",
       "      <td>3</td>\n",
       "      <td>2016</td>\n",
       "      <td>1</td>\n",
       "      <td>10</td>\n",
       "      <td>2016</td>\n",
       "      <td>1</td>\n",
       "      <td>76502.0</td>\n",
       "      <td>2015.0</td>\n",
       "      <td>1</td>\n",
       "    </tr>\n",
       "    <tr>\n",
       "      <th>3</th>\n",
       "      <td>28</td>\n",
       "      <td>9</td>\n",
       "      <td>2016</td>\n",
       "      <td>1</td>\n",
       "      <td>10</td>\n",
       "      <td>2016</td>\n",
       "      <td>1</td>\n",
       "      <td>90376.0</td>\n",
       "      <td>2016.0</td>\n",
       "      <td>3</td>\n",
       "    </tr>\n",
       "    <tr>\n",
       "      <th>4</th>\n",
       "      <td>22</td>\n",
       "      <td>2</td>\n",
       "      <td>2015</td>\n",
       "      <td>2</td>\n",
       "      <td>10</td>\n",
       "      <td>2016</td>\n",
       "      <td>1</td>\n",
       "      <td>116605.0</td>\n",
       "      <td>2015.0</td>\n",
       "      <td>1</td>\n",
       "    </tr>\n",
       "  </tbody>\n",
       "</table>\n",
       "</div>"
      ],
      "text/plain": [
       "   CASE_SUBMITTED_DAY  CASE_SUBMITTED_MONTH  CASE_SUBMITTED_YEAR  \\\n",
       "0                  24                     2                 2016   \n",
       "1                   4                     3                 2016   \n",
       "2                  10                     3                 2016   \n",
       "3                  28                     9                 2016   \n",
       "4                  22                     2                 2015   \n",
       "\n",
       "   DECISION_DAY  DECISION_MONTH  DECISION_YEAR  FULL_TIME_POSITION  \\\n",
       "0             1              10           2016                   1   \n",
       "1             1              10           2016                   1   \n",
       "2             1              10           2016                   1   \n",
       "3             1              10           2016                   1   \n",
       "4             2              10           2016                   1   \n",
       "\n",
       "   PREVAILING_WAGE  PW_SOURCE_YEAR  CASE_STATUS  \n",
       "0          59197.0          2015.0            1  \n",
       "1          49800.0          2015.0            1  \n",
       "2          76502.0          2015.0            1  \n",
       "3          90376.0          2016.0            3  \n",
       "4         116605.0          2015.0            1  "
      ]
     },
     "execution_count": 105,
     "metadata": {},
     "output_type": "execute_result"
    }
   ],
   "source": [
    "dataset.head(5)"
   ]
  },
  {
   "cell_type": "code",
   "execution_count": 106,
   "metadata": {},
   "outputs": [],
   "source": [
    "x=dataset.iloc[:,0:9].values\n",
    "y=dataset.iloc[:,9:10].values"
   ]
  },
  {
   "cell_type": "code",
   "execution_count": 107,
   "metadata": {},
   "outputs": [
    {
     "data": {
      "text/plain": [
       "(528134, 9)"
      ]
     },
     "execution_count": 107,
     "metadata": {},
     "output_type": "execute_result"
    }
   ],
   "source": [
    "x.shape"
   ]
  },
  {
   "cell_type": "code",
   "execution_count": 108,
   "metadata": {},
   "outputs": [
    {
     "data": {
      "text/plain": [
       "(528134, 1)"
      ]
     },
     "execution_count": 108,
     "metadata": {},
     "output_type": "execute_result"
    }
   ],
   "source": [
    "y.shape"
   ]
  },
  {
   "cell_type": "code",
   "execution_count": 109,
   "metadata": {},
   "outputs": [
    {
     "data": {
      "text/plain": [
       "array([[2.40000e+01, 2.00000e+00, 2.01600e+03, ..., 1.00000e+00,\n",
       "        5.91970e+04, 2.01500e+03],\n",
       "       [4.00000e+00, 3.00000e+00, 2.01600e+03, ..., 1.00000e+00,\n",
       "        4.98000e+04, 2.01500e+03],\n",
       "       [1.00000e+01, 3.00000e+00, 2.01600e+03, ..., 1.00000e+00,\n",
       "        7.65020e+04, 2.01500e+03],\n",
       "       ...,\n",
       "       [3.00000e+01, 6.00000e+00, 2.01700e+03, ..., 1.00000e+00,\n",
       "        7.94980e+04, 2.01600e+03],\n",
       "       [3.00000e+01, 6.00000e+00, 2.01700e+03, ..., 1.00000e+00,\n",
       "        1.18352e+05, 2.01600e+03],\n",
       "       [3.00000e+01, 6.00000e+00, 2.01700e+03, ..., 1.00000e+00,\n",
       "        4.91300e+04, 2.01600e+03]])"
      ]
     },
     "execution_count": 109,
     "metadata": {},
     "output_type": "execute_result"
    }
   ],
   "source": [
    "x"
   ]
  },
  {
   "cell_type": "code",
   "execution_count": 110,
   "metadata": {},
   "outputs": [
    {
     "data": {
      "text/plain": [
       "array([[1],\n",
       "       [1],\n",
       "       [1],\n",
       "       ...,\n",
       "       [3],\n",
       "       [3],\n",
       "       [3]])"
      ]
     },
     "execution_count": 110,
     "metadata": {},
     "output_type": "execute_result"
    }
   ],
   "source": [
    "y"
   ]
  },
  {
   "cell_type": "code",
   "execution_count": 111,
   "metadata": {},
   "outputs": [
    {
     "data": {
      "text/html": [
       "<div>\n",
       "<style scoped>\n",
       "    .dataframe tbody tr th:only-of-type {\n",
       "        vertical-align: middle;\n",
       "    }\n",
       "\n",
       "    .dataframe tbody tr th {\n",
       "        vertical-align: top;\n",
       "    }\n",
       "\n",
       "    .dataframe thead th {\n",
       "        text-align: right;\n",
       "    }\n",
       "</style>\n",
       "<table border=\"1\" class=\"dataframe\">\n",
       "  <thead>\n",
       "    <tr style=\"text-align: right;\">\n",
       "      <th></th>\n",
       "      <th>CASE_SUBMITTED_DAY</th>\n",
       "      <th>CASE_SUBMITTED_MONTH</th>\n",
       "      <th>CASE_SUBMITTED_YEAR</th>\n",
       "      <th>DECISION_DAY</th>\n",
       "      <th>DECISION_MONTH</th>\n",
       "      <th>DECISION_YEAR</th>\n",
       "      <th>FULL_TIME_POSITION</th>\n",
       "      <th>PREVAILING_WAGE</th>\n",
       "      <th>PW_SOURCE_YEAR</th>\n",
       "      <th>CASE_STATUS</th>\n",
       "    </tr>\n",
       "  </thead>\n",
       "  <tbody>\n",
       "    <tr>\n",
       "      <th>count</th>\n",
       "      <td>528134.000000</td>\n",
       "      <td>528134.000000</td>\n",
       "      <td>528134.000000</td>\n",
       "      <td>528134.000000</td>\n",
       "      <td>528134.000000</td>\n",
       "      <td>528134.000000</td>\n",
       "      <td>528134.000000</td>\n",
       "      <td>528134.000000</td>\n",
       "      <td>528134.000000</td>\n",
       "      <td>528134.000000</td>\n",
       "    </tr>\n",
       "    <tr>\n",
       "      <th>mean</th>\n",
       "      <td>15.246426</td>\n",
       "      <td>4.444859</td>\n",
       "      <td>2016.752854</td>\n",
       "      <td>16.565991</td>\n",
       "      <td>4.552377</td>\n",
       "      <td>2016.825876</td>\n",
       "      <td>0.976905</td>\n",
       "      <td>71674.254471</td>\n",
       "      <td>2016.057254</td>\n",
       "      <td>0.185885</td>\n",
       "    </tr>\n",
       "    <tr>\n",
       "      <th>std</th>\n",
       "      <td>8.154979</td>\n",
       "      <td>3.201000</td>\n",
       "      <td>0.524568</td>\n",
       "      <td>8.457420</td>\n",
       "      <td>3.201752</td>\n",
       "      <td>0.379217</td>\n",
       "      <td>0.150204</td>\n",
       "      <td>31996.910281</td>\n",
       "      <td>5.562806</td>\n",
       "      <td>0.599737</td>\n",
       "    </tr>\n",
       "    <tr>\n",
       "      <th>min</th>\n",
       "      <td>1.000000</td>\n",
       "      <td>1.000000</td>\n",
       "      <td>2011.000000</td>\n",
       "      <td>1.000000</td>\n",
       "      <td>1.000000</td>\n",
       "      <td>2016.000000</td>\n",
       "      <td>0.000000</td>\n",
       "      <td>0.000000</td>\n",
       "      <td>0.000000</td>\n",
       "      <td>0.000000</td>\n",
       "    </tr>\n",
       "    <tr>\n",
       "      <th>25%</th>\n",
       "      <td>8.000000</td>\n",
       "      <td>3.000000</td>\n",
       "      <td>2017.000000</td>\n",
       "      <td>9.000000</td>\n",
       "      <td>3.000000</td>\n",
       "      <td>2017.000000</td>\n",
       "      <td>1.000000</td>\n",
       "      <td>55910.000000</td>\n",
       "      <td>2016.000000</td>\n",
       "      <td>0.000000</td>\n",
       "    </tr>\n",
       "    <tr>\n",
       "      <th>50%</th>\n",
       "      <td>15.000000</td>\n",
       "      <td>3.000000</td>\n",
       "      <td>2017.000000</td>\n",
       "      <td>17.000000</td>\n",
       "      <td>3.000000</td>\n",
       "      <td>2017.000000</td>\n",
       "      <td>1.000000</td>\n",
       "      <td>68827.000000</td>\n",
       "      <td>2016.000000</td>\n",
       "      <td>0.000000</td>\n",
       "    </tr>\n",
       "    <tr>\n",
       "      <th>75%</th>\n",
       "      <td>22.000000</td>\n",
       "      <td>5.000000</td>\n",
       "      <td>2017.000000</td>\n",
       "      <td>23.000000</td>\n",
       "      <td>5.000000</td>\n",
       "      <td>2017.000000</td>\n",
       "      <td>1.000000</td>\n",
       "      <td>87214.000000</td>\n",
       "      <td>2016.000000</td>\n",
       "      <td>0.000000</td>\n",
       "    </tr>\n",
       "    <tr>\n",
       "      <th>max</th>\n",
       "      <td>31.000000</td>\n",
       "      <td>12.000000</td>\n",
       "      <td>2017.000000</td>\n",
       "      <td>31.000000</td>\n",
       "      <td>12.000000</td>\n",
       "      <td>2017.000000</td>\n",
       "      <td>1.000000</td>\n",
       "      <td>414007.000000</td>\n",
       "      <td>2017.000000</td>\n",
       "      <td>3.000000</td>\n",
       "    </tr>\n",
       "  </tbody>\n",
       "</table>\n",
       "</div>"
      ],
      "text/plain": [
       "       CASE_SUBMITTED_DAY  CASE_SUBMITTED_MONTH  CASE_SUBMITTED_YEAR  \\\n",
       "count       528134.000000         528134.000000        528134.000000   \n",
       "mean            15.246426              4.444859          2016.752854   \n",
       "std              8.154979              3.201000             0.524568   \n",
       "min              1.000000              1.000000          2011.000000   \n",
       "25%              8.000000              3.000000          2017.000000   \n",
       "50%             15.000000              3.000000          2017.000000   \n",
       "75%             22.000000              5.000000          2017.000000   \n",
       "max             31.000000             12.000000          2017.000000   \n",
       "\n",
       "        DECISION_DAY  DECISION_MONTH  DECISION_YEAR  FULL_TIME_POSITION  \\\n",
       "count  528134.000000   528134.000000  528134.000000       528134.000000   \n",
       "mean       16.565991        4.552377    2016.825876            0.976905   \n",
       "std         8.457420        3.201752       0.379217            0.150204   \n",
       "min         1.000000        1.000000    2016.000000            0.000000   \n",
       "25%         9.000000        3.000000    2017.000000            1.000000   \n",
       "50%        17.000000        3.000000    2017.000000            1.000000   \n",
       "75%        23.000000        5.000000    2017.000000            1.000000   \n",
       "max        31.000000       12.000000    2017.000000            1.000000   \n",
       "\n",
       "       PREVAILING_WAGE  PW_SOURCE_YEAR    CASE_STATUS  \n",
       "count    528134.000000   528134.000000  528134.000000  \n",
       "mean      71674.254471     2016.057254       0.185885  \n",
       "std       31996.910281        5.562806       0.599737  \n",
       "min           0.000000        0.000000       0.000000  \n",
       "25%       55910.000000     2016.000000       0.000000  \n",
       "50%       68827.000000     2016.000000       0.000000  \n",
       "75%       87214.000000     2016.000000       0.000000  \n",
       "max      414007.000000     2017.000000       3.000000  "
      ]
     },
     "execution_count": 111,
     "metadata": {},
     "output_type": "execute_result"
    }
   ],
   "source": [
    "dataset.describe()"
   ]
  },
  {
   "cell_type": "code",
   "execution_count": 112,
   "metadata": {},
   "outputs": [],
   "source": [
    "import matplotlib.pyplot as plt\n",
    "%matplotlib inline"
   ]
  },
  {
   "cell_type": "code",
   "execution_count": 113,
   "metadata": {},
   "outputs": [
    {
     "data": {
      "text/plain": [
       "[<matplotlib.lines.Line2D at 0x176263ccbb0>]"
      ]
     },
     "execution_count": 113,
     "metadata": {},
     "output_type": "execute_result"
    },
    {
     "data": {
      "image/png": "[encoded data removed]",
      "text/plain": [
       "<Figure size 432x288 with 1 Axes>"
      ]
     },
     "metadata": {
      "needs_background": "light"
     },
     "output_type": "display_data"
    }
   ],
   "source": [
    "plt.plot(dataset['CASE_STATUS'],dataset['FULL_TIME_POSITION'],'g')"
   ]
  },
  {
   "cell_type": "code",
   "execution_count": 114,
   "metadata": {},
   "outputs": [
    {
     "data": {
      "text/plain": [
       "(528134, 9)"
      ]
     },
     "execution_count": 114,
     "metadata": {},
     "output_type": "execute_result"
    }
   ],
   "source": [
    "x.shape"
   ]
  },
  {
   "cell_type": "code",
   "execution_count": 115,
   "metadata": {},
   "outputs": [
    {
     "data": {
      "text/plain": [
       "(528134, 1)"
      ]
     },
     "execution_count": 115,
     "metadata": {},
     "output_type": "execute_result"
    }
   ],
   "source": [
    "y.shape"
   ]
  },
  {
   "cell_type": "code",
   "execution_count": 116,
   "metadata": {},
   "outputs": [
    {
     "data": {
      "text/html": [
       "<div>\n",
       "<style scoped>\n",
       "    .dataframe tbody tr th:only-of-type {\n",
       "        vertical-align: middle;\n",
       "    }\n",
       "\n",
       "    .dataframe tbody tr th {\n",
       "        vertical-align: top;\n",
       "    }\n",
       "\n",
       "    .dataframe thead th {\n",
       "        text-align: right;\n",
       "    }\n",
       "</style>\n",
       "<table border=\"1\" class=\"dataframe\">\n",
       "  <thead>\n",
       "    <tr style=\"text-align: right;\">\n",
       "      <th></th>\n",
       "      <th>CASE_SUBMITTED_DAY</th>\n",
       "      <th>CASE_SUBMITTED_MONTH</th>\n",
       "      <th>CASE_SUBMITTED_YEAR</th>\n",
       "      <th>DECISION_DAY</th>\n",
       "      <th>DECISION_MONTH</th>\n",
       "      <th>DECISION_YEAR</th>\n",
       "      <th>FULL_TIME_POSITION</th>\n",
       "      <th>PREVAILING_WAGE</th>\n",
       "      <th>PW_SOURCE_YEAR</th>\n",
       "      <th>CASE_STATUS</th>\n",
       "    </tr>\n",
       "  </thead>\n",
       "  <tbody>\n",
       "    <tr>\n",
       "      <th>count</th>\n",
       "      <td>528134.000000</td>\n",
       "      <td>528134.000000</td>\n",
       "      <td>528134.000000</td>\n",
       "      <td>528134.000000</td>\n",
       "      <td>528134.000000</td>\n",
       "      <td>528134.000000</td>\n",
       "      <td>528134.000000</td>\n",
       "      <td>528134.000000</td>\n",
       "      <td>528134.000000</td>\n",
       "      <td>528134.000000</td>\n",
       "    </tr>\n",
       "    <tr>\n",
       "      <th>mean</th>\n",
       "      <td>15.246426</td>\n",
       "      <td>4.444859</td>\n",
       "      <td>2016.752854</td>\n",
       "      <td>16.565991</td>\n",
       "      <td>4.552377</td>\n",
       "      <td>2016.825876</td>\n",
       "      <td>0.976905</td>\n",
       "      <td>71674.254471</td>\n",
       "      <td>2016.057254</td>\n",
       "      <td>0.185885</td>\n",
       "    </tr>\n",
       "    <tr>\n",
       "      <th>std</th>\n",
       "      <td>8.154979</td>\n",
       "      <td>3.201000</td>\n",
       "      <td>0.524568</td>\n",
       "      <td>8.457420</td>\n",
       "      <td>3.201752</td>\n",
       "      <td>0.379217</td>\n",
       "      <td>0.150204</td>\n",
       "      <td>31996.910281</td>\n",
       "      <td>5.562806</td>\n",
       "      <td>0.599737</td>\n",
       "    </tr>\n",
       "    <tr>\n",
       "      <th>min</th>\n",
       "      <td>1.000000</td>\n",
       "      <td>1.000000</td>\n",
       "      <td>2011.000000</td>\n",
       "      <td>1.000000</td>\n",
       "      <td>1.000000</td>\n",
       "      <td>2016.000000</td>\n",
       "      <td>0.000000</td>\n",
       "      <td>0.000000</td>\n",
       "      <td>0.000000</td>\n",
       "      <td>0.000000</td>\n",
       "    </tr>\n",
       "    <tr>\n",
       "      <th>25%</th>\n",
       "      <td>8.000000</td>\n",
       "      <td>3.000000</td>\n",
       "      <td>2017.000000</td>\n",
       "      <td>9.000000</td>\n",
       "      <td>3.000000</td>\n",
       "      <td>2017.000000</td>\n",
       "      <td>1.000000</td>\n",
       "      <td>55910.000000</td>\n",
       "      <td>2016.000000</td>\n",
       "      <td>0.000000</td>\n",
       "    </tr>\n",
       "    <tr>\n",
       "      <th>50%</th>\n",
       "      <td>15.000000</td>\n",
       "      <td>3.000000</td>\n",
       "      <td>2017.000000</td>\n",
       "      <td>17.000000</td>\n",
       "      <td>3.000000</td>\n",
       "      <td>2017.000000</td>\n",
       "      <td>1.000000</td>\n",
       "      <td>68827.000000</td>\n",
       "      <td>2016.000000</td>\n",
       "      <td>0.000000</td>\n",
       "    </tr>\n",
       "    <tr>\n",
       "      <th>75%</th>\n",
       "      <td>22.000000</td>\n",
       "      <td>5.000000</td>\n",
       "      <td>2017.000000</td>\n",
       "      <td>23.000000</td>\n",
       "      <td>5.000000</td>\n",
       "      <td>2017.000000</td>\n",
       "      <td>1.000000</td>\n",
       "      <td>87214.000000</td>\n",
       "      <td>2016.000000</td>\n",
       "      <td>0.000000</td>\n",
       "    </tr>\n",
       "    <tr>\n",
       "      <th>max</th>\n",
       "      <td>31.000000</td>\n",
       "      <td>12.000000</td>\n",
       "      <td>2017.000000</td>\n",
       "      <td>31.000000</td>\n",
       "      <td>12.000000</td>\n",
       "      <td>2017.000000</td>\n",
       "      <td>1.000000</td>\n",
       "      <td>414007.000000</td>\n",
       "      <td>2017.000000</td>\n",
       "      <td>3.000000</td>\n",
       "    </tr>\n",
       "  </tbody>\n",
       "</table>\n",
       "</div>"
      ],
      "text/plain": [
       "       CASE_SUBMITTED_DAY  CASE_SUBMITTED_MONTH  CASE_SUBMITTED_YEAR  \\\n",
       "count       528134.000000         528134.000000        528134.000000   \n",
       "mean            15.246426              4.444859          2016.752854   \n",
       "std              8.154979              3.201000             0.524568   \n",
       "min              1.000000              1.000000          2011.000000   \n",
       "25%              8.000000              3.000000          2017.000000   \n",
       "50%             15.000000              3.000000          2017.000000   \n",
       "75%             22.000000              5.000000          2017.000000   \n",
       "max             31.000000             12.000000          2017.000000   \n",
       "\n",
       "        DECISION_DAY  DECISION_MONTH  DECISION_YEAR  FULL_TIME_POSITION  \\\n",
       "count  528134.000000   528134.000000  528134.000000       528134.000000   \n",
       "mean       16.565991        4.552377    2016.825876            0.976905   \n",
       "std         8.457420        3.201752       0.379217            0.150204   \n",
       "min         1.000000        1.000000    2016.000000            0.000000   \n",
       "25%         9.000000        3.000000    2017.000000            1.000000   \n",
       "50%        17.000000        3.000000    2017.000000            1.000000   \n",
       "75%        23.000000        5.000000    2017.000000            1.000000   \n",
       "max        31.000000       12.000000    2017.000000            1.000000   \n",
       "\n",
       "       PREVAILING_WAGE  PW_SOURCE_YEAR    CASE_STATUS  \n",
       "count    528134.000000   528134.000000  528134.000000  \n",
       "mean      71674.254471     2016.057254       0.185885  \n",
       "std       31996.910281        5.562806       0.599737  \n",
       "min           0.000000        0.000000       0.000000  \n",
       "25%       55910.000000     2016.000000       0.000000  \n",
       "50%       68827.000000     2016.000000       0.000000  \n",
       "75%       87214.000000     2016.000000       0.000000  \n",
       "max      414007.000000     2017.000000       3.000000  "
      ]
     },
     "execution_count": 116,
     "metadata": {},
     "output_type": "execute_result"
    }
   ],
   "source": [
    "dataset.describe()"
   ]
  },
  {
   "cell_type": "code",
   "execution_count": 117,
   "metadata": {},
   "outputs": [],
   "source": [
    "from sklearn.model_selection import train_test_split\n",
    "x_train,x_test,y_train,y_test=train_test_split(x,y,test_size=0.2,random_state=0)"
   ]
  },
  {
   "cell_type": "code",
   "execution_count": 118,
   "metadata": {},
   "outputs": [
    {
     "data": {
      "text/plain": [
       "(422507, 9)"
      ]
     },
     "execution_count": 118,
     "metadata": {},
     "output_type": "execute_result"
    }
   ],
   "source": [
    "x_train.shape"
   ]
  },
  {
   "cell_type": "code",
   "execution_count": 119,
   "metadata": {},
   "outputs": [
    {
     "data": {
      "text/plain": [
       "(105627, 9)"
      ]
     },
     "execution_count": 119,
     "metadata": {},
     "output_type": "execute_result"
    }
   ],
   "source": [
    "x_test.shape"
   ]
  },
  {
   "cell_type": "code",
   "execution_count": 120,
   "metadata": {},
   "outputs": [
    {
     "data": {
      "text/plain": [
       "(422507, 1)"
      ]
     },
     "execution_count": 120,
     "metadata": {},
     "output_type": "execute_result"
    }
   ],
   "source": [
    "y_train.shape"
   ]
  },
  {
   "cell_type": "code",
   "execution_count": 121,
   "metadata": {},
   "outputs": [
    {
     "data": {
      "text/plain": [
       "(105627, 1)"
      ]
     },
     "execution_count": 121,
     "metadata": {},
     "output_type": "execute_result"
    }
   ],
   "source": [
    "y_test.shape"
   ]
  },
  {
   "cell_type": "code",
   "execution_count": 122,
   "metadata": {},
   "outputs": [],
   "source": [
    "from sklearn.preprocessing import StandardScaler\n",
    "sc=StandardScaler()\n",
    "x_train=sc.fit_transform(x_train)\n",
    "x_test=sc.fit_transform(x_test)"
   ]
  },
  {
   "cell_type": "code",
   "execution_count": 123,
   "metadata": {},
   "outputs": [
    {
     "data": {
      "text/plain": [
       "array([[ 0.33774548,  0.17368846,  0.47094157, ...,  0.15334608,\n",
       "        -0.22726029,  0.21278833],\n",
       "       [ 0.58293419, -0.13869274,  0.47094157, ...,  0.15334608,\n",
       "        -0.49766614, -0.01436499],\n",
       "       [ 1.80887774, -1.07583633,  0.47094157, ...,  0.15334608,\n",
       "         0.00673936, -0.01436499],\n",
       "       ...,\n",
       "       [ 0.46033984, -1.07583633,  0.47094157, ...,  0.15334608,\n",
       "         0.36358258, -0.01436499],\n",
       "       [-0.64300936, -0.13869274,  0.47094157, ...,  0.15334608,\n",
       "         1.22405004,  0.21278833],\n",
       "       [-0.2752263 , -0.45107394,  0.47094157, ..., -6.52119714,\n",
       "        -2.23959949, -0.01436499]])"
      ]
     },
     "execution_count": 123,
     "metadata": {},
     "output_type": "execute_result"
    }
   ],
   "source": [
    "x_train"
   ]
  },
  {
   "cell_type": "code",
   "execution_count": 124,
   "metadata": {},
   "outputs": [],
   "source": [
    "from sklearn.naive_bayes import GaussianNB\n",
    "naive = GaussianNB()"
   ]
  },
  {
   "cell_type": "code",
   "execution_count": 125,
   "metadata": {},
   "outputs": [
    {
     "name": "stderr",
     "output_type": "stream",
     "text": [
      "C:\\Users\\saite\\anaconda3\\lib\\site-packages\\sklearn\\utils\\validation.py:63: DataConversionWarning: A column-vector y was passed when a 1d array was expected. Please change the shape of y to (n_samples, ), for example using ravel().\n",
      "  return f(*args, **kwargs)\n"
     ]
    },
    {
     "data": {
      "text/plain": [
       "GaussianNB()"
      ]
     },
     "execution_count": 125,
     "metadata": {},
     "output_type": "execute_result"
    }
   ],
   "source": [
    "naive.fit(x_train,y_train)"
   ]
  },
  {
   "cell_type": "code",
   "execution_count": 126,
   "metadata": {},
   "outputs": [],
   "source": [
    "y_pred=naive.predict(x_test)"
   ]
  },
  {
   "cell_type": "code",
   "execution_count": 127,
   "metadata": {},
   "outputs": [],
   "source": [
    "from sklearn.metrics import accuracy_score\n",
    "acc=accuracy_score(y_test,y_pred)"
   ]
  },
  {
   "cell_type": "code",
   "execution_count": 128,
   "metadata": {},
   "outputs": [
    {
     "data": {
      "text/plain": [
       "0.8420763630511138"
      ]
     },
     "execution_count": 128,
     "metadata": {},
     "output_type": "execute_result"
    }
   ],
   "source": [
    "acc"
   ]
  },
  {
   "cell_type": "code",
   "execution_count": 129,
   "metadata": {},
   "outputs": [],
   "source": [
    "import pickle\n",
    "pickle.dump(naive,open('naive.pkl','wb'))"
   ]
  },
  {
   "cell_type": "code",
   "execution_count": 130,
   "metadata": {},
   "outputs": [
    {
     "data": {
      "text/plain": [
       "DecisionTreeClassifier(random_state=1)"
      ]
     },
     "execution_count": 130,
     "metadata": {},
     "output_type": "execute_result"
    }
   ],
   "source": [
    "from sklearn.tree import DecisionTreeClassifier\n",
    "dtc = DecisionTreeClassifier(random_state = 1)\n",
    "dtc.fit(x_train,y_train)"
   ]
  },
  {
   "cell_type": "code",
   "execution_count": 131,
   "metadata": {},
   "outputs": [],
   "source": [
    "y_pred=dtc.predict(x_test)"
   ]
  },
  {
   "cell_type": "code",
   "execution_count": 132,
   "metadata": {},
   "outputs": [],
   "source": [
    "from sklearn.metrics import accuracy_score\n",
    "ac=accuracy_score(y_test,y_pred)"
   ]
  },
  {
   "cell_type": "code",
   "execution_count": 133,
   "metadata": {},
   "outputs": [
    {
     "data": {
      "text/plain": [
       "0.9731697387978453"
      ]
     },
     "execution_count": 133,
     "metadata": {},
     "output_type": "execute_result"
    }
   ],
   "source": [
    "ac"
   ]
  },
  {
   "cell_type": "code",
   "execution_count": 134,
   "metadata": {},
   "outputs": [],
   "source": [
    "import pickle\n",
    "pickle.dump(dtc,open('dtc.pkl','wb'))"
   ]
  },
  {
   "cell_type": "code",
   "execution_count": null,
   "metadata": {},
   "outputs": [],
   "source": []
  }
 ],
 "metadata": {
  "kernelspec": {
   "display_name": "Python 3 (ipykernel)",
   "language": "python",
   "name": "python3"
  },
  "language_info": {
   "codemirror_mode": {
    "name": "ipython",
    "version": 3
   },
   "file_extension": ".py",
   "mimetype": "text/x-python",
   "name": "python",
   "nbconvert_exporter": "python",
   "pygments_lexer": "ipython3",
   "version": "3.9.7"
  }
 },
 "nbformat": 4,
 "nbformat_minor": 4
}
